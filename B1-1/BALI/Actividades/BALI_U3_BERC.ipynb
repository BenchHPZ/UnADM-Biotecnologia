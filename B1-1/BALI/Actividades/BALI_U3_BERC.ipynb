{
 "cells": [
  {
   "cell_type": "markdown",
   "metadata": {},
   "source": [
    "# Unidad 3\n",
    "\n",
    "Este notebook servira para corroborar los ejercicios de la _Evidencia de Aprendizaje_ de la _Unidad 2_ del curso de _Álgera Lineal_ de la _UnADM_.\n",
    "\n",
    "El uso de este material, en actividades realcionadas con la _UnADM_, debe regirse por el [código de ética](https://www.unadmexico.mx/images/descargables/codigo_de_etica_de_estudiantes_de_la_unadm.pdf) de la institución. Para cualquier otro proposito favor de seguir los lineamientos expresados en el archivo [readme.md](../../../readme.md) de este repositorio repositorio."
   ]
  },
  {
   "cell_type": "markdown",
   "metadata": {},
   "source": [
    "## Actividad 2"
   ]
  },
  {
   "cell_type": "markdown",
   "metadata": {},
   "source": [
    "### Ejercicio 1"
   ]
  },
  {
   "cell_type": "code",
   "execution_count": 154,
   "metadata": {},
   "outputs": [],
   "source": [
    "# Metodo por columnas\n",
    "def subMatCol(mat, i):\n",
    "    \"\"\" Genera las submatrices por columna ignorando\n",
    "    la columna i\n",
    "    \"\"\"\n",
    "    \n",
    "    sub_mat = []\n",
    "    \n",
    "    n = mat.nrows()\n",
    "    m = mat.ncols()\n",
    "    \n",
    "    # Para todas las submatrices ignoraremos la misma columna\n",
    "    col = [k for k in range(m) if k != i]\n",
    "    for i in range(n):\n",
    "        \n",
    "        # Generamos el renglon a ignorar por cada sub matriz\n",
    "        ren = [k for k in range(n) if k != i]\n",
    "        sub_mat.append(Matrix(mat[ren,col]))\n",
    "\n",
    "    return sub_mat\n",
    "\n",
    "# Metodo por filas\n",
    "def subMatRen(mat, i):\n",
    "    \"\"\" Genera las submatrices por renglon ignorando\n",
    "    la columna i\n",
    "    \"\"\"\n",
    "    sub_mat = []\n",
    "    \n",
    "    n = mat.nrows()\n",
    "    m = mat.ncols()\n",
    "    \n",
    "    # Para todas las submatrices ignoraremos la misma columna\n",
    "    ren = [k for k in range(n) if k != i]\n",
    "    for i in range(m):\n",
    "        \n",
    "        # Generamos el renglon a ignorar por cada sub matriz\n",
    "        col = [k for k in range(m) if k != i]\n",
    "        sub_mat.append(Matrix(mat[ren,col]))\n",
    "\n",
    "    return sub_mat\n",
    "\n",
    "def mOne(n):\n",
    "    \"\"\" Regresa el string correspondiente al signo\n",
    "    regresado por (-1)^n\n",
    "    \"\"\"\n",
    "    return '+' if n%2==0 else '-'\n",
    "\n",
    "def detXCopVerbose(mat, sub_mat, k, t):\n",
    "    \"\"\"Genera el codigo latex correspondiente con el\n",
    "    procedimiento a la obtencion de la determinante\n",
    "    mediante el metodo de coproductos y menores\n",
    "    \"\"\"\n",
    "    \n",
    "    ret = ''\n",
    "    \n",
    "    if t == 'r':\n",
    "        ret += latex(mat) + \"\\n\\n \"\n",
    "        \n",
    "        for i in range(len(sub_mat)):\n",
    "            ret += (mOne(i+k) +\n",
    "                    str(mat[k,i]) +\n",
    "                    latex(sub_mat[i]))\n",
    "        \n",
    "        ret += \"\\n\\n\"\n",
    "        for i in range(len(sub_mat)):\n",
    "            ret += (mOne(i+k) +\n",
    "                    str(mat[k,i]) + \"(\" +\n",
    "                    str(sub_mat[i].det()) + \") \")\n",
    "        \n",
    "        ret += \"\\b = \" + str(det(mat))\n",
    "    \n",
    "    elif t == 'c':\n",
    "        ret += latex(mat) + \"\\n\\n \"\n",
    "        \n",
    "        for i in range(len(sub_mat)):\n",
    "            ret += (mOne(i+k) +\n",
    "                    str(mat[i,k]) +\n",
    "                    latex(sub_mat[i]))\n",
    "        \n",
    "        ret += \"\\n\\n\"\n",
    "        for i in range(len(sub_mat)):\n",
    "            ret += (mOne(i+k) +\n",
    "                    str(mat[i,k]) + \"(\" +\n",
    "                    str(sub_mat[i].det()) + \") \")\n",
    "        \n",
    "        ret += \"\\b = \" + str(det(mat))\n",
    "    \n",
    "    else:\n",
    "        print(\"Error\")\n",
    "        return ''\n",
    "    \n",
    "    return ret\n",
    "\n",
    "def detXCop(mat, k, ren=True, col=True, verbose=True):\n",
    "    \"\"\"Funcion que obtiene el determinante de una ma_\n",
    "    triz de 3x3 mediante el metodo de cofactores.\n",
    "    \n",
    "        mat := Matriz a calcular determinante\n",
    "        k := linea a ignorar\n",
    "        ren := Si True entonces correra el algoritmo \n",
    "            para renglones\n",
    "        col := Si True entonces correra el algoritmo\n",
    "            para columnas\n",
    "        verbose := Si True entonces regresara un bos_\n",
    "            quejo de como se veria la estructura del\n",
    "            procedimiento en latex\n",
    "            \n",
    "    Si se le ingresa una martiz mas grande tambien re_\n",
    "    gresara un resultado correcto, pero solo hara la \n",
    "    primera iteracion por cofactores. Para arreglar es_\n",
    "    to se puede insertar recursividad en lugar del meto_\n",
    "    do estandar de determinantes.\n",
    "    \"\"\"\n",
    "    ret = [0,0,[\"\",\"\"]]; k -= 1\n",
    "    \n",
    "    sub_mat_ren = []\n",
    "    sub_mat_col = []\n",
    "    \n",
    "    if ren:\n",
    "        sub_mat_ren = subMatRen(mat, k)\n",
    "        for i in range(len(sub_mat_ren)):\n",
    "            ret[0] += (-1)**(i+k)* mat[k,i] * det(sub_mat_ren[i])\n",
    "            \n",
    "    if col:\n",
    "        sub_mat_col = subMatCol(mat, k)\n",
    "        for i in range(len(sub_mat_col)):\n",
    "            ret[1] += (-1)**(i+k)* mat[i,k] * det(sub_mat_col[i])\n",
    "            \n",
    "    if verbose:\n",
    "        if ren:\n",
    "            ret[2][0] += detXCopVerbose(mat, sub_mat_ren, k, 'r')\n",
    "        if col:\n",
    "            ret[2][1] += detXCopVerbose(mat, sub_mat_col, k, 'c')\n",
    "                \n",
    "    return ret"
   ]
  },
  {
   "cell_type": "code",
   "execution_count": 125,
   "metadata": {},
   "outputs": [
    {
     "name": "stdout",
     "output_type": "stream",
     "text": [
      "-15\n"
     ]
    }
   ],
   "source": [
    "# Declarando matriz\n",
    "A = Matrix([[5,4,3],\n",
    "            [7,8,6],\n",
    "            [6,3,1]])\n",
    "\n",
    "# Parametros de metodo\n",
    "i = 1 # columna a ignorar\n",
    "\n",
    "res = detXCop(A, i)\n",
    "print(res[0])"
   ]
  },
  {
   "cell_type": "code",
   "execution_count": 126,
   "metadata": {},
   "outputs": [
    {
     "name": "stdout",
     "output_type": "stream",
     "text": [
      "-42\n"
     ]
    }
   ],
   "source": [
    "# Declarando matriz\n",
    "B = Matrix([[-3,-5,-3],\n",
    "            [4,5,6],\n",
    "            [7,8,3]])\n",
    "\n",
    "# Parametros de metodo\n",
    "\n",
    "res = detXCop(B, 1)\n",
    "print(res[0])"
   ]
  },
  {
   "cell_type": "markdown",
   "metadata": {},
   "source": [
    "### Ejercicio 2"
   ]
  },
  {
   "cell_type": "code",
   "execution_count": 127,
   "metadata": {},
   "outputs": [
    {
     "name": "stdout",
     "output_type": "stream",
     "text": [
      "96\n",
      "72\n",
      "144\n",
      "24\n"
     ]
    },
    {
     "data": {
      "text/plain": [
       "[4]\n",
       "[3]\n",
       "[6]"
      ]
     },
     "execution_count": 127,
     "metadata": {},
     "output_type": "execute_result"
    }
   ],
   "source": [
    "# Matriz de la ecuacion\n",
    "A = Matrix([[1,-1,1],\n",
    "            [4,2,-2],\n",
    "            [2,3,1]])\n",
    "# Vector de soliciones\n",
    "X = Matrix([7,10,23]).transpose()\n",
    "\n",
    "tmp = A[:,:]\n",
    "tmp[:,0] = X\n",
    "res_x = detXCop(tmp, 1)\n",
    "print(res_x[0])\n",
    "\n",
    "tmp = A[:,:]\n",
    "tmp[:,1] = X\n",
    "res_y = detXCop(tmp, 1)\n",
    "print(res_y[0])\n",
    "\n",
    "tmp = A[:,:]\n",
    "tmp[:,2] = X\n",
    "res_z = detXCop(tmp, 1)\n",
    "print(res_z[0])\n",
    "\n",
    "\n",
    "res = detXCop(A, 1)\n",
    "print(res[0])\n",
    "\n",
    "(A**(-1))*X"
   ]
  },
  {
   "cell_type": "code",
   "execution_count": 128,
   "metadata": {},
   "outputs": [
    {
     "name": "stdout",
     "output_type": "stream",
     "text": [
      "-12\n",
      "-6\n",
      "10\n",
      "-8\n"
     ]
    },
    {
     "data": {
      "text/plain": [
       "[ 3/2]\n",
       "[ 3/4]\n",
       "[-5/4]"
      ]
     },
     "execution_count": 128,
     "metadata": {},
     "output_type": "execute_result"
    }
   ],
   "source": [
    "# Matriz de la ecuacion\n",
    "A = Matrix([[2,3,1],\n",
    "            [4,2,-2],\n",
    "            [1,-3,-3]])\n",
    "# Vector de soliciones\n",
    "X = Matrix([4,10,3]).transpose()\n",
    "\n",
    "tmp = A[:,:]\n",
    "tmp[:,0] = X\n",
    "res_x = detXCop(tmp, 1)\n",
    "print(res_x[0])\n",
    "\n",
    "tmp = A[:,:]\n",
    "tmp[:,1] = X\n",
    "res_y = detXCop(tmp, 1)\n",
    "print(res_y[0])\n",
    "\n",
    "tmp = A[:,:]\n",
    "tmp[:,2] = X\n",
    "res_z = detXCop(tmp, 1)\n",
    "print(res_z[0])\n",
    "\n",
    "\n",
    "res = detXCop(A, 1)\n",
    "print(res[0])\n",
    "\n",
    "(A**(-1)*X)"
   ]
  },
  {
   "cell_type": "markdown",
   "metadata": {},
   "source": [
    "## Actividad 3"
   ]
  },
  {
   "cell_type": "code",
   "execution_count": 129,
   "metadata": {},
   "outputs": [
    {
     "name": "stdout",
     "output_type": "stream",
     "text": [
      "-35\n"
     ]
    }
   ],
   "source": [
    "A = Matrix([[2,4,1],\n",
    "            [3,2,0],\n",
    "            [7,1,3]])\n",
    "\n",
    "print(A.det())"
   ]
  },
  {
   "cell_type": "code",
   "execution_count": 130,
   "metadata": {},
   "outputs": [
    {
     "name": "stdout",
     "output_type": "stream",
     "text": [
      "12\n"
     ]
    }
   ],
   "source": [
    "B = Matrix([[-1,2,3],\n",
    "            [2,-1,3],\n",
    "            [3,-1,2]])\n",
    "\n",
    "print(B.det())"
   ]
  },
  {
   "cell_type": "markdown",
   "metadata": {},
   "source": [
    "## Evidencia de Aprendizaje"
   ]
  },
  {
   "cell_type": "code",
   "execution_count": 131,
   "metadata": {},
   "outputs": [],
   "source": [
    "def tex2python(string):\n",
    "    \"\"\"Esta funcion busca evitar errores al pasar la \n",
    "    matriz de LaTeX a Python para hacer las comproba_\n",
    "    ciones\n",
    "    \"\"\"\n",
    "    ret = \"[[\"\n",
    "    \n",
    "    for char in string.replace(\" \",\"\"):\n",
    "        if char == \"\\\\\": #Salto de linea\n",
    "            ret += \"],\\n[\"\n",
    "        elif char == \"&\": #Nuevo elemento\n",
    "            ret += \", \"\n",
    "        elif char.isdigit() :\n",
    "            ret += char\n",
    "    \n",
    "    ret += \"]\"\n",
    "    return ret"
   ]
  },
  {
   "cell_type": "code",
   "execution_count": 132,
   "metadata": {
    "collapsed": true
   },
   "outputs": [
    {
     "name": "stdout",
     "output_type": "stream",
     "text": [
      "[[45, 29, 74, 34, , 4222],\n",
      "[30, 10, 25, 87, , 3875],\n",
      "[17, 49, 27, 25, , 3001],\n",
      "[25, 15, 30, 54, , 3090],\n",
      "[]\n"
     ]
    },
    {
     "name": "stderr",
     "output_type": "stream",
     "text": [
      "<input>:1: DeprecationWarning: invalid escape sequence \\ \n",
      "<input>:1: DeprecationWarning: invalid escape sequence \\ \n",
      "<input>:1: DeprecationWarning: invalid escape sequence \\ \n",
      "<input>:1: DeprecationWarning: invalid escape sequence \\ \n",
      "<input>:1: DeprecationWarning: invalid escape sequence \\ \n",
      "<input>:1: DeprecationWarning: invalid escape sequence \\ \n",
      "<input>:1: DeprecationWarning: invalid escape sequence \\ \n",
      "<input>:1: DeprecationWarning: invalid escape sequence \\ \n",
      "<input>:1: DeprecationWarning: invalid escape sequence \\ \n",
      "<input>:1: DeprecationWarning: invalid escape sequence \\ \n",
      "<input>:1: DeprecationWarning: invalid escape sequence \\ \n",
      "<input>:1: DeprecationWarning: invalid escape sequence \\ \n",
      "<ipython-input-132-25d01cf6c259>:1: DeprecationWarning: invalid escape sequence \\ \n",
      "  string = \"45 & 29 & 74 & 34 && 4222\\    30 & 10 & 25 & 87 && 3875\\    17 & 49 & 27 & 25 && 3001\\    25 & 15 & 30 & 54 && 3090\\\\\"\n"
     ]
    }
   ],
   "source": [
    "string = \"45 & 29 & 74 & 34 && 4222\\\\\n",
    "    30 & 10 & 25 & 87 && 3875\\\\\n",
    "    17 & 49 & 27 & 25 && 3001\\\\\n",
    "    25 & 15 & 30 & 54 && 3090\\\\\"\n",
    "\n",
    "\n",
    "print(tex2python(string))"
   ]
  },
  {
   "cell_type": "code",
   "execution_count": 169,
   "metadata": {},
   "outputs": [
    {
     "name": "stdout",
     "output_type": "stream",
     "text": [
      "[12]\n",
      "[28]\n",
      "[25]\n",
      "[30]\n"
     ]
    }
   ],
   "source": [
    "mat = Matrix([[45, 29, 74, 34],\n",
    "            [30, 10, 25, 87], \n",
    "            [17, 49, 27, 25], \n",
    "            [25, 15, 30, 54]])\n",
    "\n",
    "X = Matrix([4222, 3875, 3001, 3090]).transpose()\n",
    "\n",
    "sol = mat^(-1)*X\n",
    "print(sol)"
   ]
  },
  {
   "cell_type": "code",
   "execution_count": 134,
   "metadata": {},
   "outputs": [],
   "source": [
    "def starrus(mat, py=False):\n",
    "    ret = \"\"; temp = \"\"\n",
    "    n = mat.nrows()\n",
    "    \n",
    "    for i in range(n):\n",
    "        ret += (\"({})*({})*({}) \".format(mat[i,0], \n",
    "                                 mat[(i+1)%n, 1],\n",
    "                                 mat[(i+2)%n, 2]))\n",
    "        temp += (\"({})*({})*({}) \".format(mat[(i+2)%n,0], \n",
    "                                 mat[(i+1)%n, 1],\n",
    "                                 mat[(i)%n, 2]))\n",
    "        if i != n-1:\n",
    "            ret += \" + \"\n",
    "            temp += \" + \"\n",
    "    ret += \"-(\"\n",
    "    temp += \")\"\n",
    "    \n",
    "    if py:\n",
    "        return ret+temp\n",
    "    return (ret+temp).replace(\"*\", \"\")\n",
    "\n",
    "def extendidaStarrus(mat):\n",
    "    n = mat.nrows()\n",
    "    return latex(Matrix([mat[i%n] for i in range(n+2)]))"
   ]
  },
  {
   "cell_type": "code",
   "execution_count": 135,
   "metadata": {
    "collapsed": true
   },
   "outputs": [
    {
     "name": "stdout",
     "output_type": "stream",
     "text": [
      "\\left(\\begin{array}{rrr}\n",
      "10 & 25 & 87 \\\\\n",
      "49 & 27 & 25 \\\\\n",
      "15 & 30 & 54\n",
      "\\end{array}\\right)\n",
      "\n",
      "\\left(\\begin{array}{rrr}\n",
      "10 & 25 & 87 \\\\\n",
      "49 & 27 & 25 \\\\\n",
      "15 & 30 & 54 \\\\\n",
      "10 & 25 & 87 \\\\\n",
      "49 & 27 & 25\n",
      "\\end{array}\\right)\n",
      "\n",
      "(10)(27)(54)  + (49)(30)(87)  + (15)(25)(25) -((15)(27)(87)  + (10)(30)(25)  + (49)(25)(54) ) = 42960\n",
      "\n",
      "\n",
      "\\left(\\begin{array}{rrr}\n",
      "30 & 25 & 87 \\\\\n",
      "17 & 27 & 25 \\\\\n",
      "25 & 30 & 54\n",
      "\\end{array}\\right)\n",
      "\n",
      "\\left(\\begin{array}{rrr}\n",
      "30 & 25 & 87 \\\\\n",
      "17 & 27 & 25 \\\\\n",
      "25 & 30 & 54 \\\\\n",
      "30 & 25 & 87 \\\\\n",
      "17 & 27 & 25\n",
      "\\end{array}\\right)\n",
      "\n",
      "(30)(27)(54)  + (17)(30)(87)  + (25)(25)(25) -((25)(27)(87)  + (30)(30)(25)  + (17)(25)(54) ) = -440\n",
      "\n",
      "\n",
      "\\left(\\begin{array}{rrr}\n",
      "30 & 10 & 87 \\\\\n",
      "17 & 49 & 25 \\\\\n",
      "25 & 15 & 54\n",
      "\\end{array}\\right)\n",
      "\n",
      "\\left(\\begin{array}{rrr}\n",
      "30 & 10 & 87 \\\\\n",
      "17 & 49 & 25 \\\\\n",
      "25 & 15 & 54 \\\\\n",
      "30 & 10 & 87 \\\\\n",
      "17 & 49 & 25\n",
      "\\end{array}\\right)\n",
      "\n",
      "(30)(49)(54)  + (17)(15)(87)  + (25)(10)(25) -((25)(49)(87)  + (30)(15)(25)  + (17)(10)(54) ) = -19190\n",
      "\n",
      "\n",
      "\\left(\\begin{array}{rrr}\n",
      "30 & 10 & 25 \\\\\n",
      "17 & 49 & 27 \\\\\n",
      "25 & 15 & 30\n",
      "\\end{array}\\right)\n",
      "\n",
      "\\left(\\begin{array}{rrr}\n",
      "30 & 10 & 25 \\\\\n",
      "17 & 49 & 27 \\\\\n",
      "25 & 15 & 30 \\\\\n",
      "30 & 10 & 25 \\\\\n",
      "17 & 49 & 27\n",
      "\\end{array}\\right)\n",
      "\n",
      "(30)(49)(30)  + (17)(15)(25)  + (25)(10)(27) -((25)(49)(25)  + (30)(15)(27)  + (17)(10)(30) ) = 9350\n",
      "\n",
      "\n"
     ]
    }
   ],
   "source": [
    "for sub_mat in subMatRen(mat, 0):\n",
    "    print(latex(sub_mat), end=\"\\n\\n\")\n",
    "    print(extendidaStarrus(sub_mat), end=\"\\n\\n\")\n",
    "    print(starrus(sub_mat), end=\" = \")\n",
    "    print(sub_mat.det(), end=\"\\n\\n\\n\")\n",
    "    "
   ]
  },
  {
   "cell_type": "code",
   "execution_count": 168,
   "metadata": {},
   "outputs": [],
   "source": [
    "for i in range(mat.ncols()):\n",
    "    temp = mat[:,:]\n",
    "    temp[:,i] = X\n",
    "    #print(detXCop(temp, 1, col=False)[2][0])"
   ]
  },
  {
   "cell_type": "code",
   "execution_count": null,
   "metadata": {},
   "outputs": [],
   "source": []
  },
  {
   "cell_type": "code",
   "execution_count": null,
   "metadata": {},
   "outputs": [],
   "source": []
  }
 ],
 "metadata": {
  "kernelspec": {
   "display_name": "SageMath 9.0",
   "language": "sage",
   "name": "sagemath"
  },
  "language_info": {
   "codemirror_mode": {
    "name": "ipython",
    "version": 3
   },
   "file_extension": ".py",
   "mimetype": "text/x-python",
   "name": "python",
   "nbconvert_exporter": "python",
   "pygments_lexer": "ipython3",
   "version": "3.7.3"
  }
 },
 "nbformat": 4,
 "nbformat_minor": 2
}
