{
 "cells": [
  {
   "cell_type": "markdown",
   "metadata": {},
   "source": [
    "# Asignacion a Cargo del Docente (ACD)\n",
    "\n",
    "Este notebook servira para corroborar los ejercicios de la _Asignacion a Cargo del Docente_ del curso de _Álgera Lineal_ de la _UnADM_.\n",
    "\n",
    "El uso de este material, en actividades realcionadas con la _UnADM_, debe regirse por el [código de ética](https://www.unadmexico.mx/images/descargables/codigo_de_etica_de_estudiantes_de_la_unadm.pdf) de la institución. Para cualquier otro proposito favor de seguir los lineamientos expresados en el archivo [readme.md](../../../readme.md) de este repositorio repositorio."
   ]
  },
  {
   "cell_type": "code",
   "execution_count": 11,
   "metadata": {},
   "outputs": [],
   "source": [
    "def show(matriz, norm=True, tex=False):\n",
    "    if norm:\n",
    "        print(matriz)\n",
    "    \n",
    "    if tex:\n",
    "        print(\"\\n--\")\n",
    "        print(latex(matriz))\n",
    "    \n",
    "    if norm or tex:\n",
    "        print(\"\\n------\\n\")\n",
    "\n",
    "def starrus(mat, py=False):\n",
    "    ret = \"\"; temp = \"\"\n",
    "    n = mat.nrows()\n",
    "    \n",
    "    for i in range(n):\n",
    "        ret += (\"({})*({})*({})\".format(mat[i,0], \n",
    "                                 mat[(i+1)%n, 1],\n",
    "                                 mat[(i+2)%n, 2]))\n",
    "        temp += (\"({})*({})*({})\".format(mat[(i+2)%n,0], \n",
    "                                 mat[(i+1)%n, 1],\n",
    "                                 mat[(i)%n, 2]))\n",
    "        if i != n-1:\n",
    "            ret += \" + \"\n",
    "            temp += \" + \"\n",
    "    ret += \"-(\"\n",
    "    temp += \")\"\n",
    "    \n",
    "    if py:\n",
    "        return ret+temp\n",
    "    return (ret+temp).replace(\"*\", \"\")\n",
    "\n",
    "\n",
    "def extendidaStarrus(mat):\n",
    "    n = mat.nrows()\n",
    "    return latex(Matrix([mat[i%n] for i in range(n+2)]))\n",
    "\n",
    "def gauss_method(M,rescale_leading_entry=False):\n",
    "    num_rows=M.nrows()\n",
    "    num_cols=M.ncols()\n",
    "    show(M, tex=tex)\n",
    "    \n",
    "    col = 0   # all cols before this are already done\n",
    "    for row in range(0,num_rows): \n",
    "        # ?Need to swap in a nonzero entry from below\n",
    "        while (col < num_cols\n",
    "               and M[row][col] == 0): \n",
    "            for i in M.nonzero_positions_in_column(col):\n",
    "                if i > row:\n",
    "                    print(\" intercambiamos la fila\",row+1,\" con la fila\",i+1)\n",
    "                    M.swap_rows(row,i)\n",
    "                    show(M, tex=tex)\n",
    "                    break     \n",
    "            else:\n",
    "                col += 1\n",
    "\n",
    "        if col >= num_cols:\n",
    "            break\n",
    "\n",
    "        # Now guaranteed M[row][col] != 0\n",
    "        if (rescale_leading_entry and M[row][col] != 1):      \n",
    "            print(\" multiplicamos \",1/M[row][col],\" veces la fila \",row+1)\n",
    "            M.rescale_row(row,1/M[row][col])\n",
    "            show(M, tex=tex)\n",
    "            \n",
    "        change_flag=False\n",
    "        for changed_row in range(row+1,num_rows):\n",
    "            if M[changed_row][col] != 0:\n",
    "                change_flag=True\n",
    "                factor=-1*M[changed_row][col]/M[row][col]\n",
    "                print(\" hacemos que la fila\", changed_row+1, \n",
    "                      \"sea\",factor,\n",
    "                      \"veces la fila\",row+1, \n",
    "                      \"mas la fila\",changed_row+1) \n",
    "                M.add_multiple_of_row(changed_row,row,factor)\n",
    "                \n",
    "        if change_flag:\n",
    "            show(M, tex=tex)\n",
    "        col +=1"
   ]
  },
  {
   "cell_type": "markdown",
   "metadata": {},
   "source": [
    "### Ejercicio 1\n",
    "\n",
    "Obtener el determinante de la matriz A por el _método de Cramer_\n",
    "$$\n",
    "    A = \\begin{pmatrix}\n",
    "        3 & 2 & 1 \\\\\n",
    "        4 &-2 & 2 \\\\\n",
    "        2 & 3 & 1\n",
    "    \\end{pmatrix}\n",
    "$$"
   ]
  },
  {
   "cell_type": "code",
   "execution_count": 12,
   "metadata": {},
   "outputs": [
    {
     "name": "stdout",
     "output_type": "stream",
     "text": [
      "[ 3  2  1]\n",
      "[ 4 -2  2]\n",
      "[ 2  3  1]\n",
      "\n",
      "------\n",
      "\n"
     ]
    }
   ],
   "source": [
    "tex = False\n",
    "A = Matrix(QQ, [[3,2,1],\n",
    "                [4,-2,2],\n",
    "                [2,3,1]])\n",
    "\n",
    "show(A, tex=tex)"
   ]
  },
  {
   "cell_type": "code",
   "execution_count": 17,
   "metadata": {},
   "outputs": [
    {
     "name": "stdout",
     "output_type": "stream",
     "text": [
      "(3)(3)(1) + (5)(3)(1) + (2)(4)(1)-((2)(3)(1) + (3)(3)(1) + (5)(4)(1))\n",
      "-8\n"
     ]
    }
   ],
   "source": [
    "#print(extendidaStarrus(A))\n",
    "print(starrus(A))\n",
    "print((3)*(-2)*(1) + (4)*(3)*(1) + (2)*(2)*(2) -((2)*(-2)*(1) + (3)*(3)*(2) + (4)*(2)*(1)))"
   ]
  },
  {
   "cell_type": "markdown",
   "metadata": {},
   "source": [
    "## Ejercicio 2\n",
    "Resuelve $A + B$ para las matrices\n",
    "$$\n",
    "    A = \\begin{pmatrix} \n",
    "        3 & 4 & 1 \\\\ 5 & 3 & 1 \\\\ 2 & 3 & 1 \n",
    "        \\end{pmatrix}, \n",
    "    B = \\begin{pmatrix}\n",
    "        -2 & -3 & -1 \\\\ 4 & 3 & 2 \\\\ 10 & 4 & 2\n",
    "        \\end{pmatrix}\n",
    "$$"
   ]
  },
  {
   "cell_type": "code",
   "execution_count": 14,
   "metadata": {
    "scrolled": false
   },
   "outputs": [
    {
     "name": "stdout",
     "output_type": "stream",
     "text": [
      "[3 4 1]\n",
      "[5 3 1]\n",
      "[2 3 1]\n",
      "\n",
      "------\n",
      "\n",
      "[-2 -3 -1]\n",
      "[ 4  3  2]\n",
      "[10  4  2]\n",
      "\n",
      "------\n",
      "\n"
     ]
    }
   ],
   "source": [
    "A = Matrix(QQ, [[3,4,1],[5,3,1],[2,3,1]])\n",
    "B = Matrix(QQ, [[-2,-3,-1],[4,3,2],[10,4,2]])\n",
    "\n",
    "show(A, tex=tex)\n",
    "show(B, tex=tex)"
   ]
  },
  {
   "cell_type": "code",
   "execution_count": 15,
   "metadata": {},
   "outputs": [
    {
     "name": "stdout",
     "output_type": "stream",
     "text": [
      "[ 1  1  0]\n",
      "[ 9  6  3]\n",
      "[12  7  3]\n",
      "\n",
      "------\n",
      "\n"
     ]
    }
   ],
   "source": [
    "show(A + B, tex=tex)"
   ]
  },
  {
   "cell_type": "markdown",
   "metadata": {},
   "source": [
    "## Ejercicio 3\n",
    "Resolver el siguiente sistema de ecuaciones mediante el __metodo de Gauss__\n",
    "\n",
    "$$\n",
    "    \\begin{eqnarray*}\n",
    "        3x + 2y + 2z &=& 10 \\\\\n",
    "        2x + 3y +  z &=&  8 \\\\\n",
    "        3x +  y + 5z &=& 11\n",
    "    \\end{eqnarray*}\n",
    "$$"
   ]
  },
  {
   "cell_type": "code",
   "execution_count": 16,
   "metadata": {},
   "outputs": [
    {
     "name": "stdout",
     "output_type": "stream",
     "text": [
      "[ 3  2  2 10]\n",
      "[ 2  3  1  8]\n",
      "[ 3  1  5 11]\n",
      "\n",
      "------\n",
      "\n",
      " hacemos que la fila 2 sea -2/3 veces la fila 1 mas la fila 2\n",
      " hacemos que la fila 3 sea -1 veces la fila 1 mas la fila 3\n",
      "[   3    2    2   10]\n",
      "[   0  5/3 -1/3  4/3]\n",
      "[   0   -1    3    1]\n",
      "\n",
      "------\n",
      "\n",
      " hacemos que la fila 3 sea 3/5 veces la fila 2 mas la fila 3\n",
      "[   3    2    2   10]\n",
      "[   0  5/3 -1/3  4/3]\n",
      "[   0    0 14/5  9/5]\n",
      "\n",
      "------\n",
      "\n",
      "[ 16/7]\n",
      "[13/14]\n",
      "[ 9/14]\n"
     ]
    }
   ],
   "source": [
    "eq = Matrix(QQ, [[3,2,2,10],[2,3,1,8],[3,1,5,11]])\n",
    "\n",
    "gauss_method(eq)\n",
    "\n",
    "print(eq[:,:3]**(-1)*eq[:,3])"
   ]
  },
  {
   "cell_type": "code",
   "execution_count": null,
   "metadata": {},
   "outputs": [],
   "source": []
  },
  {
   "cell_type": "code",
   "execution_count": null,
   "metadata": {},
   "outputs": [],
   "source": []
  }
 ],
 "metadata": {
  "kernelspec": {
   "display_name": "SageMath 9.0",
   "language": "sage",
   "name": "sagemath"
  },
  "language_info": {
   "codemirror_mode": {
    "name": "ipython",
    "version": 3
   },
   "file_extension": ".py",
   "mimetype": "text/x-python",
   "name": "python",
   "nbconvert_exporter": "python",
   "pygments_lexer": "ipython3",
   "version": "3.7.3"
  }
 },
 "nbformat": 4,
 "nbformat_minor": 2
}
