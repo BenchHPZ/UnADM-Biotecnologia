{
 "cells": [
  {
   "cell_type": "markdown",
   "metadata": {},
   "source": [
    "# Actividad 2. Representación matricial\n",
    "\n",
    "Este notebook servira para corroborar los ejercicios de la _Actividad 2_ de la _Unidad 2_ del curso de _Álgera Lineal_ de la _UnADM_.\n",
    "\n",
    "El uso de este material, en actividades realcionadas con la _UnADM_, debe regirse por el [código de ética](https://www.unadmexico.mx/images/descargables/codigo_de_etica_de_estudiantes_de_la_unadm.pdf) de la institución. Para cualquier otro proposito favor de seguir los lineamientos expresados en el archivo [readme.md](../../../readme.md) de este repositorio repositorio."
   ]
  },
  {
   "cell_type": "markdown",
   "metadata": {},
   "source": [
    "## Ejercicios"
   ]
  },
  {
   "cell_type": "markdown",
   "metadata": {},
   "source": [
    "### Ejercicio 1\n",
    "Sean\n",
    "\t$A = \\begin{pmatrix}\n",
    "\t\t5 & 4 & 3 \\\\\n",
    "\t\t7 & 8 & 6 \\\\\n",
    "\t\t6 & 3 & 1\n",
    "\t\\end{pmatrix}$ \n",
    "    y \n",
    "\t$B = \\begin{pmatrix}\n",
    "        -3&-5 &-3 \\\\\n",
    "\t\t4 & 5 & 6 \\\\\n",
    "\t\t7 & 8 & 3\n",
    "\t\\end{pmatrix}$  \n",
    "realiza las siguientes operaciones:\n",
    "\n",
    "- A+B\n",
    "- A-B\n",
    "- AxB\n",
    "- 3A + 2B"
   ]
  },
  {
   "cell_type": "code",
   "execution_count": 1,
   "metadata": {},
   "outputs": [
    {
     "name": "stdout",
     "output_type": "stream",
     "text": [
      "[5 4 3]\n",
      "[7 8 6]\n",
      "[6 3 1]\n",
      "\n",
      "[-3 -5 -3]\n",
      "[ 4  5  6]\n",
      "[ 7  8  3]\n"
     ]
    }
   ],
   "source": [
    "# Declaracion de matrices A,B\n",
    "A = matrix([[ 5, 4, 3],\n",
    "            [ 7, 8, 6],\n",
    "            [ 6, 3, 1]])\n",
    "\n",
    "B = matrix([[-3,-5,-3],\n",
    "            [ 4, 5, 6],\n",
    "            [ 7, 8, 3]])\n",
    "print(A, end='\\n\\n')\n",
    "print(B)"
   ]
  },
  {
   "cell_type": "code",
   "execution_count": 2,
   "metadata": {},
   "outputs": [
    {
     "data": {
      "text/plain": [
       "[ 2 -1  0]\n",
       "[11 13 12]\n",
       "[13 11  4]"
      ]
     },
     "execution_count": 2,
     "metadata": {},
     "output_type": "execute_result"
    }
   ],
   "source": [
    "A+B"
   ]
  },
  {
   "cell_type": "code",
   "execution_count": 3,
   "metadata": {},
   "outputs": [
    {
     "data": {
      "text/plain": [
       "[ 8  9  6]\n",
       "[ 3  3  0]\n",
       "[-1 -5 -2]"
      ]
     },
     "execution_count": 3,
     "metadata": {},
     "output_type": "execute_result"
    }
   ],
   "source": [
    "A-B"
   ]
  },
  {
   "cell_type": "code",
   "execution_count": 4,
   "metadata": {},
   "outputs": [
    {
     "data": {
      "text/plain": [
       "[22 19 18]\n",
       "[53 53 45]\n",
       "[ 1 -7  3]"
      ]
     },
     "execution_count": 4,
     "metadata": {},
     "output_type": "execute_result"
    }
   ],
   "source": [
    "A*B"
   ]
  },
  {
   "cell_type": "code",
   "execution_count": 5,
   "metadata": {},
   "outputs": [
    {
     "data": {
      "text/plain": [
       "[ 9  2  3]\n",
       "[29 34 30]\n",
       "[32 25  9]"
      ]
     },
     "execution_count": 5,
     "metadata": {},
     "output_type": "execute_result"
    }
   ],
   "source": [
    "3*A + 2*B"
   ]
  },
  {
   "cell_type": "markdown",
   "metadata": {},
   "source": [
    "### Ejercicio 2\n",
    "\n",
    "Para cada sistema de ecuaciones encuentra su matriz principal y su matriz ampliada\n",
    "\n",
    "- S1\n",
    "$$\\begin{matrix}\n",
    "\t x_1 - x_2 +4x_3 =  7 \\\\\n",
    "\t4x_1 +2x_2 -2x_3 = 10 \\\\\n",
    "    2x_1 +3x_2 + x_3 = 23\n",
    "\\end {matrix}$$\n",
    "- S2\n",
    "$$\\begin{matrix}\n",
    "\t2x_1 + 3x_2 + x_3 = 4 \\\\\n",
    "\t4x_1 + 2x_2 -2x_3 =10 \\\\\n",
    "\t x_1 - 3x_2 -3x_3 = 3\n",
    "\\end {matrix}$$\n",
    "- S3\n",
    "$$\\begin{matrix} \n",
    "\t 2x_1 - 6x_2 + 10x_3 + 7x_4 = 1 \\\\\n",
    "\t-4x_1 - 3x_2 + 20x_3 +14x_4 = 1 \\\\\n",
    "    10x_1 - 9x_2 + 15x_3 +13x_4 =-1 \\\\\n",
    "     3x_1 + 8x_2 - 30x_3 + 3x_4 = 1\n",
    "\\end {matrix}$$"
   ]
  },
  {
   "cell_type": "code",
   "execution_count": 6,
   "metadata": {},
   "outputs": [],
   "source": [
    "def GenerarMatriz(equsys, vars):\n",
    "    A=matrix([[equ.lhs().coefficient(v) for v in vars] for equ in equsys])\n",
    "    b=matrix([[equ.rhs()] for equ in equsys])\n",
    "    return (A,b)\n",
    "\n",
    "def showEquations(obj):\n",
    "    for eq in obj:\n",
    "        print(eq)\n",
    "        \n",
    "def work(obj, vars):\n",
    "    showEquations(obj)\n",
    "    return GenerarMatriz(obj, vars)"
   ]
  },
  {
   "cell_type": "code",
   "execution_count": 7,
   "metadata": {},
   "outputs": [
    {
     "name": "stdout",
     "output_type": "stream",
     "text": [
      "x1 - x2 + 4*x3 == 7\n",
      "4*x1 + 2*x2 - 2*x3 == 10\n",
      "2*x1 + 3*x2 + x3 == 23\n"
     ]
    },
    {
     "data": {
      "text/plain": [
       "(\n",
       "[ 1 -1  4]  [ 7]\n",
       "[ 4  2 -2]  [10]\n",
       "[ 2  3  1], [23]\n",
       ")"
      ]
     },
     "execution_count": 7,
     "metadata": {},
     "output_type": "execute_result"
    }
   ],
   "source": [
    "\"\"\"Sistema 1\n",
    "     x_1 −  x_2 + 4x_3 =7\n",
    "    4x_1 + 2x_2 − 2x_3 =10\n",
    "    2x_1 + 3x_2 +  x_3 =23 \n",
    "\"\"\"\n",
    "xs = var('x1,x2,x3')\n",
    "eq1 =   x1 -   x2 + 4*x3 ==  7\n",
    "eq2 = 4*x1 + 2*x2 - 2*x3 == 10\n",
    "eq3 = 2*x1 + 3*x2 +   x3 == 23\n",
    "\n",
    "ret = work([eq1, eq2, eq3], xs)\n",
    "ret"
   ]
  },
  {
   "cell_type": "code",
   "execution_count": 8,
   "metadata": {},
   "outputs": [
    {
     "name": "stdout",
     "output_type": "stream",
     "text": [
      "2*x1 + 3*x2 + x3 == 4\n",
      "4*x1 + 2*x2 - 2*x3 == 10\n",
      "x1 - 3*x2 - 3*x3 == 3\n"
     ]
    },
    {
     "data": {
      "text/plain": [
       "(\n",
       "[ 2  3  1]  [ 4]\n",
       "[ 4  2 -2]  [10]\n",
       "[ 1 -3 -3], [ 3]\n",
       ")"
      ]
     },
     "execution_count": 8,
     "metadata": {},
     "output_type": "execute_result"
    }
   ],
   "source": [
    "\"\"\"Sistema 2\n",
    "    2x_1 + 3x_2 + x_3 =  4\n",
    "    4x_1 + 2x_2 −2x_3 = 10\n",
    "     x_1 − 3x_2 −3x_3 =  3\n",
    "\"\"\"\n",
    "xs = var('x1,x2,x3')\n",
    "eq1 = 2*x1 + 3*x2 +   x3 ==  4\n",
    "eq2 = 4*x1 + 2*x2 - 2*x3 == 10\n",
    "eq3 = 1*x1 - 3*x2 - 3*x3 ==  3\n",
    "\n",
    "ret = work([eq1, eq2, eq3], xs)\n",
    "ret"
   ]
  },
  {
   "cell_type": "code",
   "execution_count": 9,
   "metadata": {},
   "outputs": [
    {
     "name": "stdout",
     "output_type": "stream",
     "text": [
      "2*x1 - 6*x2 + 10*x3 + 7*x4 == 1\n",
      "-4*x1 - 3*x2 + 20*x3 + 14*x4 == 1\n",
      "10*x1 - 9*x2 + 15*x3 + 13*x4 == -1\n",
      "3*x1 + 8*x2 - 30*x3 + 3*x4 == 1\n"
     ]
    },
    {
     "data": {
      "text/plain": [
       "(\n",
       "[  2  -6  10   7]  [ 1]\n",
       "[ -4  -3  20  14]  [ 1]\n",
       "[ 10  -9  15  13]  [-1]\n",
       "[  3   8 -30   3], [ 1]\n",
       ")"
      ]
     },
     "execution_count": 9,
     "metadata": {},
     "output_type": "execute_result"
    }
   ],
   "source": [
    "\"\"\"Sistema 3\n",
    "    2x_1 - 6x_2 + 10x_3 + 7x_4 = 1\n",
    "    -4x_1- 3x_2 + 20x_3 +14x_4 = 1\n",
    "    10x_1- 9x_2 + 15x_3 +13x_4 =-1\n",
    "    3x_1 + 8x_2 - 30x_3 + 3x_4 = 1\n",
    "\"\"\"\n",
    "xs = var('x1,x2,x3,x4')\n",
    "eq1 =  2*x1 - 6*x2 + 10*x3 + 7*x4 == 1\n",
    "eq2 = -4*x1 - 3*x2 + 20*x3 +14*x4 == 1\n",
    "eq3 = 10*x1 - 9*x2 + 15*x3 +13*x4 ==-1\n",
    "eq4 =  3*x1 + 8*x2 - 30*x3 + 3*x4 == 1\n",
    "\n",
    "ret = work([eq1, eq2, eq3, eq4], xs)\n",
    "ret"
   ]
  },
  {
   "cell_type": "code",
   "execution_count": null,
   "metadata": {},
   "outputs": [],
   "source": []
  }
 ],
 "metadata": {
  "kernelspec": {
   "display_name": "SageMath 9.0",
   "language": "sage",
   "name": "sagemath"
  },
  "language_info": {
   "codemirror_mode": {
    "name": "ipython",
    "version": 3
   },
   "file_extension": ".py",
   "mimetype": "text/x-python",
   "name": "python",
   "nbconvert_exporter": "python",
   "pygments_lexer": "ipython3",
   "version": "3.7.3"
  }
 },
 "nbformat": 4,
 "nbformat_minor": 2
}
