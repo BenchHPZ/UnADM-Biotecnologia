{
 "cells": [
  {
   "cell_type": "markdown",
   "metadata": {},
   "source": [
    "# Evidencia de Aprendizaje . Matrices Gauss-Jordan\n",
    "\n",
    "Este notebook servira para corroborar los ejercicios de la _Evidencia de Aprendizaje_ de la _Unidad 2_ del curso de _Álgera Lineal_ de la _UnADM_.\n",
    "\n",
    "El uso de este material, en actividades realcionadas con la _UnADM_, debe regirse por el [código de ética](https://www.unadmexico.mx/images/descargables/codigo_de_etica_de_estudiantes_de_la_unadm.pdf) de la institución. Para cualquier otro proposito favor de seguir los lineamientos expresados en el archivo [readme.md](../../../readme.md) de este repositorio repositorio."
   ]
  },
  {
   "cell_type": "markdown",
   "metadata": {},
   "source": [
    "## Funciones auxiliares"
   ]
  },
  {
   "cell_type": "code",
   "execution_count": 83,
   "metadata": {},
   "outputs": [],
   "source": [
    "def show(matriz, norm=True, tex=True):\n",
    "    \"\"\"Funcion para mostrar la matriz y su escritura en LaTex\n",
    "    \"\"\"\n",
    "    M = matrix(matriz)\n",
    "    \n",
    "    if norm:\n",
    "        print(M)\n",
    "    \n",
    "    if tex:\n",
    "        print(\"\\n--\")\n",
    "        print(latex(M))\n",
    "    \n",
    "    if norm or tex:\n",
    "        print(\"\\n------\\n\")\n",
    "        \n",
    "def l_split(string, lista):\n",
    "    tmp = string\n",
    "\n",
    "    for sep in lista:\n",
    "        \n",
    "        if isinstance(tmp, str):\n",
    "            tmp = tmp.split(sep)\n",
    "        else:\n",
    "            temp = []\n",
    "            for sub in tmp:\n",
    "                for ele in sub.split(sep):\n",
    "                    temp.append(ele)\n",
    "            tmp = temp\n",
    "\n",
    "    return tmp\n",
    "\n",
    "def eq2sage(sistema, base=int):\n",
    "    ret = []\n",
    "    \n",
    "    for n in range(len(sistema)):\n",
    "        eq = l_split(str(sistema[n]).replace(' ',\"\"), \n",
    "                    ['+', '-', '=='])\n",
    "        \n",
    "        eq[-1] = eq[-1] + \"*0\"\n",
    "        for i in range(len(eq)):\n",
    "            if '*' in eq[i]:\n",
    "                eq[i] = base(eq[i][:-2])\n",
    "            else:\n",
    "                eq[i] = 1\n",
    "                \n",
    "        ret.append(eq)\n",
    "   \n",
    "    return Matrix(ret)\n",
    "    \n",
    "    \n",
    "    \n",
    "def solve3b3(matriz, tex=False):\n",
    "    \"\"\"Esta funcion calculara la solucion del sistema de ecuaciones representado\n",
    "    por la matriz utilizando el metodo de Gauss-Jordan (o al menos un intento de \n",
    "    el). Recibe un parametro que es la matriz y por ahora solo funciona para sis_\n",
    "    temas de 3x3\n",
    "    \n",
    "            matriz debe ser de la forma [eq1, eq2, eq3]\n",
    "    \"\"\"\n",
    "    print(latex(matriz))\n",
    "    dim = 3\n",
    "    for i in range(dim):\n",
    "        \n",
    "        matriz[i] /= (matriz[i])[i]\n",
    "        matriz[(i+1)%dim] -= matriz[i]*(matriz[(i+1)%dim])[i]\n",
    "        matriz[(i+2)%dim] -= matriz[i]*(matriz[(i+2)%dim])[i]\n",
    "        \n",
    "        show(matriz, tex=tex)"
   ]
  },
  {
   "cell_type": "markdown",
   "metadata": {},
   "source": [
    "## Verificacion"
   ]
  },
  {
   "cell_type": "markdown",
   "metadata": {},
   "source": [
    "### Sistema 1"
   ]
  },
  {
   "cell_type": "code",
   "execution_count": 16,
   "metadata": {},
   "outputs": [
    {
     "name": "stdout",
     "output_type": "stream",
     "text": [
      "[    1   7/2     3    24]\n",
      "[    0    -9    -3   -72]\n",
      "[    0 -19/2   -11   -58]\n",
      "\n",
      "------\n",
      "\n",
      "[    1     0  11/6    -4]\n",
      "[    0     1   1/3     8]\n",
      "[    0     0 -47/6    18]\n",
      "\n",
      "------\n",
      "\n",
      "[      1       0       0   10/47]\n",
      "[      0       1       0  412/47]\n",
      "[      0       0       1 -108/47]\n",
      "\n",
      "------\n",
      "\n"
     ]
    }
   ],
   "source": [
    "eq1 = vector([2,7,6,48])\n",
    "eq2 = vector([4,5,9,24])\n",
    "eq3 = vector([3,1,-2,14])\n",
    "\n",
    "solve3b3([eq1, eq2, eq3])"
   ]
  },
  {
   "cell_type": "markdown",
   "metadata": {},
   "source": [
    "### Sistema 2"
   ]
  },
  {
   "cell_type": "code",
   "execution_count": 15,
   "metadata": {},
   "outputs": [
    {
     "name": "stdout",
     "output_type": "stream",
     "text": [
      "[ 1 12  3 19]\n",
      "[ 0  5  6 20]\n",
      "[ 0  7  2  1]\n",
      "\n",
      "------\n",
      "\n",
      "[    1     0 -57/5   -29]\n",
      "[    0     1   6/5     4]\n",
      "[    0     0 -32/5   -27]\n",
      "\n",
      "------\n",
      "\n",
      "[     1      0      0 611/32]\n",
      "[     0      1      0 -17/16]\n",
      "[     0      0      1 135/32]\n",
      "\n",
      "------\n",
      "\n"
     ]
    }
   ],
   "source": [
    "eq1 = vector([1,12,3,19])\n",
    "eq2 = vector([0,5,6,20])\n",
    "eq3 = vector([0,7,2,1])\n",
    "\n",
    "solve3b3([eq1, eq2, eq3])"
   ]
  },
  {
   "cell_type": "markdown",
   "metadata": {},
   "source": [
    "### Sistema 3"
   ]
  },
  {
   "cell_type": "code",
   "execution_count": 4,
   "metadata": {},
   "outputs": [
    {
     "name": "stdout",
     "output_type": "stream",
     "text": [
      "[ 1 -2  4  7]\n",
      "[ 0  2 -8  6]\n",
      "[ 0  5  7 21]\n",
      "\n",
      "------\n",
      "\n",
      "[ 1  0 -4 13]\n",
      "[ 0  1 -4  3]\n",
      "[ 0  0 27  6]\n",
      "\n",
      "------\n",
      "\n",
      "[    1     0     0 125/9]\n",
      "[    0     1     0  35/9]\n",
      "[    0     0     1   2/9]\n",
      "\n",
      "------\n",
      "\n"
     ]
    }
   ],
   "source": [
    "eq1 = vector([1,-2,4,7])\n",
    "eq2 = vector([0,2,-8,6])\n",
    "eq3 = vector([0,5,7,21])\n",
    "\n",
    "solve3b3([eq1, eq2, eq3])"
   ]
  },
  {
   "cell_type": "markdown",
   "metadata": {},
   "source": [
    "## Trans"
   ]
  },
  {
   "cell_type": "code",
   "execution_count": 1,
   "metadata": {},
   "outputs": [],
   "source": [
    "var('x y z');"
   ]
  },
  {
   "cell_type": "code",
   "execution_count": 84,
   "metadata": {},
   "outputs": [
    {
     "name": "stdout",
     "output_type": "stream",
     "text": [
      "\\left[\\left(2,\\,7,\\,6,\\,48\\right), \\left(4,\\,5,\\,9,\\,24\\right), \\left(3,\\,1,\\,-2,\\,14\\right)\\right]\n",
      "[    1   7/2     3    24]\n",
      "[    0    -9    -3   -72]\n",
      "[    0 -19/2   -11   -58]\n",
      "\n",
      "------\n",
      "\n",
      "[    1     0  11/6    -4]\n",
      "[    0     1   1/3     8]\n",
      "[    0     0 -47/6    18]\n",
      "\n",
      "------\n",
      "\n",
      "[      1       0       0   10/47]\n",
      "[      0       1       0  412/47]\n",
      "[      0       0       1 -108/47]\n",
      "\n",
      "------\n",
      "\n"
     ]
    }
   ],
   "source": [
    "# Sistema 1\n",
    "eq1 = vector([2, 7, 6, 48])\n",
    "eq2 = vector([4, 5, 9, 24])\n",
    "eq3 = vector([3, 1,-2, 14])\n",
    "\n",
    "solve3b3([eq1, eq2, eq3])"
   ]
  },
  {
   "cell_type": "code",
   "execution_count": 88,
   "metadata": {},
   "outputs": [
    {
     "name": "stdout",
     "output_type": "stream",
     "text": [
      "[\n",
      "[x == (-452/127), y == (46/127), z == (771/127)]\n",
      "]\n"
     ]
    }
   ],
   "source": [
    "# Sistema 2\n",
    "\n",
    "eq1 =  x + 12*y +  3*z == 19\n",
    "eq2 =  4*x +  5*y +  6*z == 24\n",
    "eq3 =  3*x +  7*y +  2*z ==  4\n",
    "\n",
    "print(solve([eq1, eq2, eq3], x, y, z))\n",
    "#solve3b3(eq2sage([eq1, eq2, eq3], float))"
   ]
  },
  {
   "cell_type": "code",
   "execution_count": 92,
   "metadata": {},
   "outputs": [
    {
     "name": "stdout",
     "output_type": "stream",
     "text": [
      "[\n",
      "[x == (451/103), y == (117/103), z == (126/103)]\n",
      "]\n",
      "\\left(\\begin{array}{rrrr}\n",
      "1.0 & 2.0 & 4.0 & 7.0 \\\\\n",
      "4.0 & 2.0 & 8.0 & 10.0 \\\\\n",
      "2.0 & 5.0 & 7.0 & 23.0\n",
      "\\end{array}\\right)\n",
      "[  1.0   2.0   4.0   7.0]\n",
      "[  0.0  -6.0  -8.0 -18.0]\n",
      "[  0.0   1.0  -1.0   9.0]\n",
      "\n",
      "------\n",
      "\n",
      "[               1.0                0.0 1.3333333333333335                1.0]\n",
      "[              -0.0                1.0 1.3333333333333333                3.0]\n",
      "[               0.0                0.0 -2.333333333333333                6.0]\n",
      "\n",
      "------\n",
      "\n",
      "[                1.0                 0.0                 0.0   4.428571428571429]\n",
      "[                0.0                 1.0                 0.0   6.428571428571429]\n",
      "[               -0.0                -0.0                 1.0 -2.5714285714285716]\n",
      "\n",
      "------\n",
      "\n"
     ]
    }
   ],
   "source": [
    "# Sistema 3\n",
    "\n",
    "eq1 = x - 2*y + 4*z == 7\n",
    "eq2 = 4*x + 2*y - 8*z == 10\n",
    "eq3 = 2*x + 5*y + 7*z == 23\n",
    "\n",
    "print(solve([eq1, eq2, eq3], x, y, z))\n",
    "solve3b3(eq2sage([eq1, eq2, eq3], float))"
   ]
  },
  {
   "cell_type": "code",
   "execution_count": null,
   "metadata": {},
   "outputs": [],
   "source": []
  }
 ],
 "metadata": {
  "kernelspec": {
   "display_name": "SageMath 9.0",
   "language": "sage",
   "name": "sagemath"
  },
  "language_info": {
   "codemirror_mode": {
    "name": "ipython",
    "version": 3
   },
   "file_extension": ".py",
   "mimetype": "text/x-python",
   "name": "python",
   "nbconvert_exporter": "python",
   "pygments_lexer": "ipython3",
   "version": "3.7.3"
  }
 },
 "nbformat": 4,
 "nbformat_minor": 2
}
