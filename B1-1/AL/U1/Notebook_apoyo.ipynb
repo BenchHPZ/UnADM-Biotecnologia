{
 "cells": [
  {
   "cell_type": "markdown",
   "metadata": {},
   "source": [
    "# Algebra Lineal\n",
    "\n",
    "Cuaderno de apoyo para las actividades, ejercicios, proyectos y tareas, del curso de _Algebra Lineal_ de la _UnADM_."
   ]
  },
  {
   "cell_type": "code",
   "execution_count": 21,
   "metadata": {},
   "outputs": [
    {
     "name": "stdout",
     "output_type": "stream",
     "text": [
      "(-6, 4)\n",
      "(-1, -4)\n",
      "(5, -8)\n"
     ]
    }
   ],
   "source": [
    "def comp_vec(vi, vf):\n",
    "    return (vf[0]-vi[0], vf[1]-vi[1])\n",
    "\n",
    "# Vector v\n",
    "vi = (1,-2)\n",
    "vf = (-5,2)\n",
    "\n",
    "vm = comp_vec(vi, vf)\n",
    "print(vm)\n",
    "\n",
    "# Vector w\n",
    "wi = (0,0)\n",
    "wf = (-1,-4)\n",
    "\n",
    "wm = comp_vec(wi, wf)\n",
    "print(wm)\n",
    "\n",
    "# W-V\n",
    "print(vector(wm)-vector(vm))\n"
   ]
  },
  {
   "cell_type": "code",
   "execution_count": 22,
   "metadata": {},
   "outputs": [
    {
     "name": "stdout",
     "output_type": "stream",
     "text": [
      "(-6, 4)\n",
      "(-1, -4)\n"
     ]
    },
    {
     "data": {
      "text/plain": [
       "-10"
      ]
     },
     "execution_count": 22,
     "metadata": {},
     "output_type": "execute_result"
    }
   ],
   "source": [
    "vi = (1,-2)\n",
    "vf  = (-5,2)\n",
    "v = vector(comp_vec(vi, vf))\n",
    "print(v)\n",
    "\n",
    "wi = (0,0)\n",
    "wm = (-1,-4)\n",
    "w = vector(wm)\n",
    "print(w)\n",
    "\n",
    "v*w"
   ]
  },
  {
   "cell_type": "code",
   "execution_count": 14,
   "metadata": {},
   "outputs": [
    {
     "data": {
      "text/plain": [
       "9"
      ]
     },
     "execution_count": 14,
     "metadata": {},
     "output_type": "execute_result"
    }
   ],
   "source": [
    "vector([3,4])*vector([-5,6])"
   ]
  },
  {
   "cell_type": "code",
   "execution_count": 15,
   "metadata": {},
   "outputs": [
    {
     "name": "stdout",
     "output_type": "stream",
     "text": [
      "-48\n",
      "0\n",
      "9\n"
     ]
    }
   ],
   "source": [
    "def pero_f(u1, u2, v1, v2):\n",
    "    print(vector([u1,u2]) * vector([v1,v2]))\n",
    "\n",
    "pero_f(-8,-3,3,8)\n",
    "pero_f(4,6,-6,4)\n",
    "pero_f(3,1,2,3)"
   ]
  },
  {
   "cell_type": "code",
   "execution_count": null,
   "metadata": {},
   "outputs": [],
   "source": []
  }
 ],
 "metadata": {
  "kernelspec": {
   "display_name": "SageMath 9.0",
   "language": "sage",
   "name": "sagemath"
  },
  "language_info": {
   "codemirror_mode": {
    "name": "ipython",
    "version": 3
   },
   "file_extension": ".py",
   "mimetype": "text/x-python",
   "name": "python",
   "nbconvert_exporter": "python",
   "pygments_lexer": "ipython3",
   "version": "3.7.3"
  }
 },
 "nbformat": 4,
 "nbformat_minor": 2
}
