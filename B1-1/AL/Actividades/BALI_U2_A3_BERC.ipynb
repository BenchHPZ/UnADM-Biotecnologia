{
 "cells": [
  {
   "cell_type": "markdown",
   "metadata": {},
   "source": [
    "# Actividad 3. Método de Gauss\n",
    "\n",
    "Este notebook servira para corroborar los ejercicios de la _Actividad 3_ de la _Unidad 2_ del curso de _Álgera Lineal_ de la _UnADM_.\n",
    "\n",
    "El uso de este material, en actividades realcionadas con la _UnADM_, debe regirse por el [código de ética](https://www.unadmexico.mx/images/descargables/codigo_de_etica_de_estudiantes_de_la_unadm.pdf) de la institución. Para cualquier otro proposito favor de seguir los lineamientos expresados en el archivo [readme.md](../../../readme.md) de este repositorio repositorio."
   ]
  },
  {
   "cell_type": "code",
   "execution_count": 1,
   "metadata": {},
   "outputs": [],
   "source": [
    "# Naive Gaussian reduction\n",
    "def shown( obj ):\n",
    "    \"\"\"Funcion que permite establecer la forma de visualizacion de la funcion\n",
    "    siguiente\n",
    "    \"\"\"\n",
    "    # Mostrar la representacion latex de la matriz\n",
    "    #print(latex(obj))\n",
    "    # Mostrar la matriz\n",
    "    print(obj)\n",
    "\n",
    "\n",
    "def gauss_method(M,rescale_leading_entry=False):\n",
    "    \"\"\"Describe the reduction to echelon form of the given matrix of rationals.\n",
    "\n",
    "    M  matrix of rationals   e.g., M = matrix(QQ, [[..], [..], ..])\n",
    "    rescale_leading_entry=False  boolean  make the leading entries to 1's\n",
    "\n",
    "    Returns: None.  Side effect: M is reduced.  Note: this is echelon form, \n",
    "    not reduced echelon form; this routine does not end the same way as does \n",
    "    M.echelon_form().\n",
    "\n",
    "    \"\"\"\n",
    "    num_rows=M.nrows()\n",
    "    num_cols=M.ncols()\n",
    "    shown(M)\n",
    "    \n",
    "    col = 0   # all cols before this are already done\n",
    "    for row in range(0,num_rows): \n",
    "        # ?Need to swap in a nonzero entry from below\n",
    "        while (col < num_cols\n",
    "               and M[row][col] == 0): \n",
    "            for i in M.nonzero_positions_in_column(col):\n",
    "                if i > row:\n",
    "                    print(\" intercambiamos la fila\",row+1,\" con la fila\",i+1)\n",
    "                    M.swap_rows(row,i)\n",
    "                    shown(M)\n",
    "                    break     \n",
    "            else:\n",
    "                col += 1\n",
    "\n",
    "        if col >= num_cols:\n",
    "            break\n",
    "\n",
    "        # Now guaranteed M[row][col] != 0\n",
    "        if (rescale_leading_entry and M[row][col] != 1):      \n",
    "            print(\" multiplicamos \",1/M[row][col],\" veces la fila \",row+1)\n",
    "            M.rescale_row(row,1/M[row][col])\n",
    "            shown(M)\n",
    "            \n",
    "        change_flag=False\n",
    "        for changed_row in range(row+1,num_rows):\n",
    "            if M[changed_row][col] != 0:\n",
    "                change_flag=True\n",
    "                factor=-1*M[changed_row][col]/M[row][col]\n",
    "                print(\" hacemos que la fila\", changed_row+1, \n",
    "                      \"sea\",factor,\n",
    "                      \"veces la fila\",row+1, \n",
    "                      \"mas la fila\",changed_row+1) \n",
    "                M.add_multiple_of_row(changed_row,row,factor)\n",
    "                \n",
    "        if change_flag:\n",
    "            shown(M)\n",
    "        col +=1\n",
    "        \n",
    "# Fuente: https://ask.sagemath.org/question/8840/how-to-show-the-steps-of-gauss-method/"
   ]
  },
  {
   "cell_type": "code",
   "execution_count": 2,
   "metadata": {},
   "outputs": [],
   "source": [
    "def comprueba(M):\n",
    "\n",
    "    gauss_method(M)\n",
    "\n",
    "    print(\"\\n\\n y al final vemos que las soluciones son \")\n",
    "\n",
    "    dim = 3\n",
    "    # Solucione con matriz inversa\n",
    "    A = M[:, :dim]\n",
    "    b = M[:, dim]\n",
    "\n",
    "    sol = (~A)*b\n",
    "    print(sol)"
   ]
  },
  {
   "cell_type": "markdown",
   "metadata": {},
   "source": [
    "### Test\n",
    "\n",
    "Vamos a probar la funcionalidad que usaremos durante este ejercicio. Primero la funcion anterior, para corroborar el paso en Gauss de matriz triangular invertida, para luego resolver con inversa.\n",
    "\n",
    "El ejemplo fue tomado de https://www.mathwords.com/g/gaussian_elimination.htm"
   ]
  },
  {
   "cell_type": "code",
   "execution_count": 3,
   "metadata": {},
   "outputs": [
    {
     "name": "stdout",
     "output_type": "stream",
     "text": [
      "[ 1  1  1  3]\n",
      "[ 2  3  7  0]\n",
      "[ 1  3 -2 17]\n",
      " hacemos que la fila 2 sea -2 veces la fila 1 mas la fila 2\n",
      " hacemos que la fila 3 sea -1 veces la fila 1 mas la fila 3\n",
      "[ 1  1  1  3]\n",
      "[ 0  1  5 -6]\n",
      "[ 0  2 -3 14]\n",
      " hacemos que la fila 3 sea -2 veces la fila 2 mas la fila 3\n",
      "[  1   1   1   3]\n",
      "[  0   1   5  -6]\n",
      "[  0   0 -13  26]\n"
     ]
    }
   ],
   "source": [
    "# Eliminacion gaussiana sobre matriz\n",
    "M = matrix(QQ, [[1,1,1,3],\n",
    "                [2,3,7,0],\n",
    "                [1,3,-2,17]\n",
    "               ])\n",
    "gauss_method(M)"
   ]
  },
  {
   "cell_type": "code",
   "execution_count": 4,
   "metadata": {},
   "outputs": [
    {
     "name": "stdout",
     "output_type": "stream",
     "text": [
      "[ 1]\n",
      "[ 4]\n",
      "[-2]\n"
     ]
    }
   ],
   "source": [
    "# Correccion de metodo\n",
    "M[2] = (0,0,1, -2)\n",
    "\n",
    "dim = 3\n",
    "# Solucione con matriz inversa\n",
    "A = M[:, :dim]\n",
    "b = M[:, dim]\n",
    "\n",
    "sol = (~A)*b\n",
    "print(sol)"
   ]
  },
  {
   "cell_type": "markdown",
   "metadata": {},
   "source": [
    "## Sistema 1"
   ]
  },
  {
   "cell_type": "code",
   "execution_count": 5,
   "metadata": {},
   "outputs": [
    {
     "name": "stdout",
     "output_type": "stream",
     "text": [
      "[ 2  7  6 48]\n",
      "[ 4  5  9 24]\n",
      "[ 3  1 -2 14]\n",
      " hacemos que la fila 2 sea -2 veces la fila 1 mas la fila 2\n",
      " hacemos que la fila 3 sea -3/2 veces la fila 1 mas la fila 3\n",
      "[    2     7     6    48]\n",
      "[    0    -9    -3   -72]\n",
      "[    0 -19/2   -11   -58]\n",
      " hacemos que la fila 3 sea -19/18 veces la fila 2 mas la fila 3\n",
      "[    2     7     6    48]\n",
      "[    0    -9    -3   -72]\n",
      "[    0     0 -47/6    18]\n",
      "\n",
      "\n",
      " y al final vemos que las soluciones son \n",
      "[  10/47]\n",
      "[ 412/47]\n",
      "[-108/47]\n"
     ]
    }
   ],
   "source": [
    "M = matrix(QQ, [[2,7,6,48],\n",
    "                [4,5,9,24],\n",
    "                [3,1,-2,14]\n",
    "               ])\n",
    "comprueba(M)"
   ]
  },
  {
   "cell_type": "markdown",
   "metadata": {},
   "source": [
    "## Sistema 2"
   ]
  },
  {
   "cell_type": "code",
   "execution_count": 6,
   "metadata": {},
   "outputs": [
    {
     "name": "stdout",
     "output_type": "stream",
     "text": [
      "[ 1 12  3 19]\n",
      "[ 0  5  6 20]\n",
      "[ 0  7  2  1]\n",
      " hacemos que la fila 3 sea -7/5 veces la fila 2 mas la fila 3\n",
      "[    1    12     3    19]\n",
      "[    0     5     6    20]\n",
      "[    0     0 -32/5   -27]\n",
      "\n",
      "\n",
      " y al final vemos que las soluciones son \n",
      "[611/32]\n",
      "[-17/16]\n",
      "[135/32]\n"
     ]
    }
   ],
   "source": [
    "M = matrix(QQ, [[1,12, 3,19],\n",
    "                [0, 5, 6,20],\n",
    "                [0, 7, 2, 1]\n",
    "               ])\n",
    "comprueba(M)"
   ]
  },
  {
   "cell_type": "markdown",
   "metadata": {},
   "source": [
    "## Sistema 3"
   ]
  },
  {
   "cell_type": "code",
   "execution_count": 7,
   "metadata": {},
   "outputs": [
    {
     "name": "stdout",
     "output_type": "stream",
     "text": [
      "[ 1 -2  4  7]\n",
      "[ 0  2 -8  6]\n",
      "[ 0  5  7 21]\n",
      " hacemos que la fila 3 sea -5/2 veces la fila 2 mas la fila 3\n",
      "[ 1 -2  4  7]\n",
      "[ 0  2 -8  6]\n",
      "[ 0  0 27  6]\n",
      "\n",
      "\n",
      " y al final vemos que las soluciones son \n",
      "[125/9]\n",
      "[ 35/9]\n",
      "[  2/9]\n"
     ]
    }
   ],
   "source": [
    "M = matrix(QQ, [[1,-2, 4, 7],\n",
    "                [0, 2,-8, 6],\n",
    "                [0, 5, 7,21]\n",
    "               ])\n",
    "comprueba(M)"
   ]
  },
  {
   "cell_type": "code",
   "execution_count": null,
   "metadata": {},
   "outputs": [],
   "source": []
  }
 ],
 "metadata": {
  "kernelspec": {
   "display_name": "SageMath 9.0",
   "language": "sage",
   "name": "sagemath"
  },
  "language_info": {
   "codemirror_mode": {
    "name": "ipython",
    "version": 3
   },
   "file_extension": ".py",
   "mimetype": "text/x-python",
   "name": "python",
   "nbconvert_exporter": "python",
   "pygments_lexer": "ipython3",
   "version": "3.7.3"
  }
 },
 "nbformat": 4,
 "nbformat_minor": 2
}
